{
 "cells": [
  {
   "cell_type": "markdown",
   "id": "5d17ee5b-797f-4fde-ac5b-7cfa5023951b",
   "metadata": {},
   "source": [
    "# Fuzzy Cognitive Maps - Scenario\n",
    "\n",
    "Fuzzy Cognitive Maps (FCM) is a method, that allows to use domain knowledge of experts and explore different outcomes or behaviour based on hypothetical scenarios. With the gained knowledge of running different scenarios, potential pitfalls or unwanted effects can be detected, before actions are deployed to the real world.\n",
    "\n",
    "For this notebook the python package `fcmpy` is used."
   ]
  },
  {
   "cell_type": "markdown",
   "id": "08ca6697-d278-4159-9214-3618d0ca8f43",
   "metadata": {},
   "source": [
    "## Simulation\n",
    "Let us consider a simple example to illustrate the simulation option with FCMs.\n",
    "\n",
    "* Graph nodes denote concepts or variables that describe the problem\n",
    "* Graph edges represent (casual) relationships between concepts, which are characterized by positive or negative weights\n",
    "* Weights can take values in the `[-1, 1]` interval so that they represent both the direction and the intensity of causal relationshipts\n",
    "\n",
    "We define the causal relationships manually according to the rules that govern the simplified food chain. For example, predators thrive in the area when ther is a lot of prey. And grass, which serves as food source for predator, has a positive effect on them.\n",
    "\n",
    "![FCM Visualization](image/FCM_Vis.png)\n",
    "\n",
    "Here we load the necessary packages and functions"
   ]
  },
  {
   "cell_type": "code",
   "execution_count": 2,
   "id": "1c4c227e-3c54-46e3-bd50-91da458db0d2",
   "metadata": {
    "ExecuteTime": {
     "end_time": "2025-02-10T19:31:13.997002Z",
     "start_time": "2025-02-10T19:31:13.639198Z"
    }
   },
   "outputs": [
    {
     "ename": "ModuleNotFoundError",
     "evalue": "No module named 'fcmpy'",
     "output_type": "error",
     "traceback": [
      "\u001b[1;31m---------------------------------------------------------------------------\u001b[0m",
      "\u001b[1;31mModuleNotFoundError\u001b[0m                       Traceback (most recent call last)",
      "Cell \u001b[1;32mIn[2], line 1\u001b[0m\n\u001b[1;32m----> 1\u001b[0m \u001b[38;5;28;01mfrom\u001b[39;00m \u001b[38;5;21;01mfcmpy\u001b[39;00m \u001b[38;5;28;01mimport\u001b[39;00m FcmSimulator\n\u001b[0;32m      2\u001b[0m \u001b[38;5;28;01mimport\u001b[39;00m \u001b[38;5;21;01mmatplotlib\u001b[39;00m\u001b[38;5;21;01m.\u001b[39;00m\u001b[38;5;21;01mpyplot\u001b[39;00m \u001b[38;5;28;01mas\u001b[39;00m \u001b[38;5;21;01mplt\u001b[39;00m\n\u001b[0;32m      3\u001b[0m \u001b[38;5;28;01mimport\u001b[39;00m \u001b[38;5;21;01mnumpy\u001b[39;00m \u001b[38;5;28;01mas\u001b[39;00m \u001b[38;5;21;01mnp\u001b[39;00m\n",
      "\u001b[1;31mModuleNotFoundError\u001b[0m: No module named 'fcmpy'"
     ]
    }
   ],
   "source": [
    "from fcmpy import FcmSimulator\n",
    "import matplotlib.pyplot as plt\n",
    "import numpy as np\n",
    "import pandas as pd"
   ]
  },
  {
   "cell_type": "markdown",
   "id": "cffb496d-44d5-4b13-88bd-e8b69d39f1d2",
   "metadata": {},
   "source": [
    "The shown edges in the images, are stored as a `weight_matrix`."
   ]
  },
  {
   "cell_type": "code",
   "execution_count": null,
   "id": "a7a855f8-a276-4cfe-a614-8c4432759270",
   "metadata": {
    "ExecuteTime": {
     "end_time": "2025-02-10T19:31:15.598680Z",
     "start_time": "2025-02-10T19:31:15.589524Z"
    }
   },
   "outputs": [],
   "source": [
    "weight_matrix = pd.DataFrame(np.array([[0, 1, -1],[-1,0,0], [1,0,0]]),\n",
    "                             columns=['Prey', 'Predator', 'Grass'])\n",
    "weight_matrix"
   ]
  },
  {
   "cell_type": "markdown",
   "id": "f8d78597-b550-4246-bd90-42985c310f46",
   "metadata": {},
   "source": [
    "In our example we want simulate what happens **if**:\n",
    "* we have **medium** number of predators, which will be represented as **0.5**\n",
    "* we have a **moderate** number of grass, which will be represented as **0.75**"
   ]
  },
  {
   "cell_type": "code",
   "execution_count": null,
   "id": "3d51ad0e-6f25-4398-bb17-7e3c5c613f7d",
   "metadata": {
    "ExecuteTime": {
     "end_time": "2025-02-10T19:31:16.591083Z",
     "start_time": "2025-02-10T19:31:16.585750Z"
    }
   },
   "outputs": [],
   "source": [
    "init_state = {'Predator': 0.5,'Prey': 0.5,\"Grass\": 0.75}"
   ]
  },
  {
   "cell_type": "markdown",
   "id": "4f0fc420-5969-41b3-b81c-da268fec60e4",
   "metadata": {},
   "source": [
    "Initalise the simulation function `FcmSimulator` from `fcmpy`."
   ]
  },
  {
   "cell_type": "code",
   "execution_count": null,
   "id": "f1e177f3-e3bd-4ce4-9af2-c0a754ac7ab3",
   "metadata": {
    "ExecuteTime": {
     "end_time": "2025-02-10T19:31:17.443128Z",
     "start_time": "2025-02-10T19:31:17.440945Z"
    }
   },
   "outputs": [],
   "source": [
    "sim = FcmSimulator()"
   ]
  },
  {
   "cell_type": "markdown",
   "id": "b351aa5f-880e-43ad-b59c-8570b28e6861",
   "metadata": {},
   "source": [
    "### Different Activation functions\n",
    "\n",
    "**Sigmoid** <br>\n",
    "In our first scenario the simulation is done with the `sigmoid` activation function. The values converge after 9 iterations, which indicates a stable pattern (equilibrium).\n",
    "\n",
    "**TanH** <br>\n",
    "In the second scenario the simulation is done with the `tanh` activation function. Here cyclic behaviour can be seen, which does not converge. In our example it is a repeating pattern."
   ]
  },
  {
   "cell_type": "code",
   "execution_count": null,
   "id": "9d8e9a19-3e1c-458b-abb0-9af4303a242c",
   "metadata": {
    "ExecuteTime": {
     "end_time": "2025-02-10T19:31:18.423856Z",
     "start_time": "2025-02-10T19:31:18.411694Z"
    }
   },
   "outputs": [],
   "source": [
    "res_sigmoid = sim.simulate(initial_state=init_state, weight_matrix=weight_matrix, transfer='sigmoid', inference='mKosko', thresh=0.001, iterations=50, l=1)"
   ]
  },
  {
   "cell_type": "code",
   "execution_count": null,
   "id": "77d8b729-55b9-4209-b825-ca93f42ff52c",
   "metadata": {
    "ExecuteTime": {
     "end_time": "2025-02-10T19:31:19.004622Z",
     "start_time": "2025-02-10T19:31:18.947086Z"
    }
   },
   "outputs": [],
   "source": [
    "res_hyperbolic = sim.simulate(initial_state=init_state, weight_matrix=weight_matrix, transfer='tanh',\n",
    "                           inference='mKosko', thresh=0.001, iterations=50, l=1)"
   ]
  },
  {
   "cell_type": "code",
   "execution_count": null,
   "id": "fcfac718-893c-4c45-8ea3-fac4bd3fb824",
   "metadata": {
    "ExecuteTime": {
     "end_time": "2025-02-10T19:31:20.067609Z",
     "start_time": "2025-02-10T19:31:19.858411Z"
    }
   },
   "outputs": [],
   "source": [
    "fig, axes = plt.subplots(1, 2, figsize=(12, 5))  # Two plots side-by-side\n",
    "\n",
    "res_sigmoid.plot(ax=axes[0], marker='o')\n",
    "axes[0].get_legend().remove()\n",
    "axes[0].set_xlabel(\"Iteration Number\")\n",
    "axes[0].set_title(\"Sigmoid function\")  # Individual title for left plot\n",
    "\n",
    "res_hyperbolic.plot(ax=axes[1], marker='o')\n",
    "axes[1].legend(bbox_to_anchor=(1, 0.94))\n",
    "axes[1].set_xlabel(\"Iteration Number\")\n",
    "axes[1].set_title(\"Tanh function\")  # Individual title for right plot\n",
    "\n",
    "#fig.text(0.5, 0.02, \"Different Components for the Same Models\", ha=\"center\", fontsize=12)\n",
    "\n",
    "# Step 4: Adjust layout for spacing\n",
    "plt.tight_layout(rect=[0, 0.03, 1, 1])  # Leave space for the shared x-label\n",
    "\n",
    "# Step 5: Show the plots\n",
    "plt.show()\n"
   ]
  },
  {
   "cell_type": "markdown",
   "id": "d510ddb6-dbd1-4dc2-be62-f424e8c24b82",
   "metadata": {},
   "source": [
    "## Intervention\n",
    "\n",
    "After getting a feeling for the simulation of a scenario. Here we take a look at possible interventions"
   ]
  },
  {
   "cell_type": "code",
   "execution_count": null,
   "id": "410c0cbb-ce65-410e-b6e0-44e56be0d25f",
   "metadata": {
    "ExecuteTime": {
     "end_time": "2025-02-10T19:31:23.137030Z",
     "start_time": "2025-02-10T19:31:23.133679Z"
    }
   },
   "outputs": [],
   "source": [
    "from fcmpy import FcmIntervention"
   ]
  },
  {
   "cell_type": "code",
   "execution_count": null,
   "id": "98ec7111-e0eb-49e0-a25a-0517c2b0f763",
   "metadata": {
    "ExecuteTime": {
     "end_time": "2025-02-10T19:31:23.737127Z",
     "start_time": "2025-02-10T19:31:23.733574Z"
    }
   },
   "outputs": [],
   "source": [
    "inter = FcmIntervention(FcmSimulator)"
   ]
  },
  {
   "cell_type": "code",
   "execution_count": null,
   "id": "bdaa5565-1bbd-407c-ac81-f805f3e93fb6",
   "metadata": {
    "ExecuteTime": {
     "end_time": "2025-02-10T19:31:24.225127Z",
     "start_time": "2025-02-10T19:31:24.183729Z"
    }
   },
   "outputs": [],
   "source": [
    "inter.initialize(initial_state=init_state, weight_matrix=weight_matrix,transfer=\"tanh\", inference=\"mKosko\",thresh=0.001, iterations=50, l=1)"
   ]
  },
  {
   "cell_type": "code",
   "execution_count": null,
   "id": "b4e6e025-93ba-4488-b386-8b1061fd791d",
   "metadata": {
    "ExecuteTime": {
     "end_time": "2025-02-10T19:31:24.835314Z",
     "start_time": "2025-02-10T19:31:24.817659Z"
    }
   },
   "outputs": [],
   "source": [
    "inter.test_results[\"baseline\"]"
   ]
  },
  {
   "cell_type": "markdown",
   "id": "2f062c52-4fbb-43a6-811c-d0909e539d31",
   "metadata": {},
   "source": [
    "Here we add an interventen, where hunters are allowed to remove some predators per season. This is why kind of intervention is remarked `continuous`. "
   ]
  },
  {
   "cell_type": "code",
   "execution_count": null,
   "id": "a017dc3c-7ad7-400a-af71-b1934b9374c0",
   "metadata": {
    "ExecuteTime": {
     "end_time": "2025-02-10T19:31:25.893277Z",
     "start_time": "2025-02-10T19:31:25.887520Z"
    }
   },
   "outputs": [],
   "source": [
    "inter.add_intervention(\"Intervention_Hunters\", type=\"continuous\", impact={\"Predator\":-0.3}, effectiveness=1)"
   ]
  },
  {
   "cell_type": "code",
   "execution_count": null,
   "id": "5e7802cb-1a79-4740-a169-804789fa93fe",
   "metadata": {
    "ExecuteTime": {
     "end_time": "2025-02-10T19:31:26.477885Z",
     "start_time": "2025-02-10T19:31:26.436960Z"
    }
   },
   "outputs": [],
   "source": [
    "inter.test_intervention(\"Intervention_Hunters\", iterations=50)"
   ]
  },
  {
   "cell_type": "code",
   "execution_count": null,
   "id": "5285b028-4ab1-488a-a375-7a4c4434188b",
   "metadata": {
    "ExecuteTime": {
     "end_time": "2025-02-10T19:31:27.039252Z",
     "start_time": "2025-02-10T19:31:27.033104Z"
    }
   },
   "outputs": [],
   "source": [
    "intervention_hunter = inter.test_results[\"Intervention_Hunters\"][[\"Prey\", \"Predator\", \"Grass\"]]"
   ]
  },
  {
   "cell_type": "code",
   "execution_count": null,
   "id": "1b7d3c2e-847f-427d-b79c-974d30f32718",
   "metadata": {
    "ExecuteTime": {
     "end_time": "2025-02-10T19:31:27.950538Z",
     "start_time": "2025-02-10T19:31:27.780589Z"
    }
   },
   "outputs": [],
   "source": [
    "fig, axes = plt.subplots(1, 2, figsize=(12, 5))  # Two plots side-by-side\n",
    "\n",
    "res_hyperbolic.plot(ax=axes[0], marker='o')\n",
    "axes[0].get_legend().remove()\n",
    "axes[0].set_xlabel(\"Iteration Number\")\n",
    "axes[0].set_title(\"Without Intervention\")  # Individual title for left plot\n",
    "\n",
    "intervention_hunter.plot(ax=axes[1], marker='o')\n",
    "axes[1].legend(bbox_to_anchor=(1, 0.94))\n",
    "axes[1].set_xlabel(\"Iteration Number\")\n",
    "axes[1].set_title(\"With Intervention\")  # Individual title for right plot\n",
    "\n",
    "#fig.text(0.5, 0.02, \"Different Components for the Same Models\", ha=\"center\", fontsize=12)\n",
    "\n",
    "# Step 4: Adjust layout for spacing\n",
    "plt.tight_layout(rect=[0, 0.03, 1, 1])  # Leave space for the shared x-label\n",
    "\n",
    "# Step 5: Show the plots\n",
    "plt.show()\n"
   ]
  },
  {
   "cell_type": "code",
   "execution_count": null,
   "id": "b5bcad79c78d5a7a",
   "metadata": {},
   "outputs": [],
   "source": []
  }
 ],
 "metadata": {
  "kernelspec": {
   "display_name": "Python 3",
   "language": "python",
   "name": "python3"
  },
  "language_info": {
   "codemirror_mode": {
    "name": "ipython",
    "version": 3
   },
   "file_extension": ".py",
   "mimetype": "text/x-python",
   "name": "python",
   "nbconvert_exporter": "python",
   "pygments_lexer": "ipython3",
   "version": "3.8.1"
  }
 },
 "nbformat": 4,
 "nbformat_minor": 9
}
